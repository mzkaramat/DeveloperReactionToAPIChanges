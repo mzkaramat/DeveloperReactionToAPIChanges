{
 "cells": [
  {
   "cell_type": "code",
   "execution_count": 1,
   "metadata": {},
   "outputs": [],
   "source": [
    "import tweepy\n",
    "from tweepy import OAuthHandler\n",
    "from tweepy import Stream\n",
    "from tweepy.streaming import StreamListener"
   ]
  },
  {
   "cell_type": "code",
   "execution_count": 2,
   "metadata": {},
   "outputs": [],
   "source": [
    "consumer_key=\"9CuB18u37FRdvJbKyjvzfqBd4\"\n",
    "consumer_secret=\"01KrKLxVNaMRk3YBPn65ZIUMAb1uZAwHYibTOCxDYtFabNgbs0\"\n",
    "access_token=\"1596179101-UqiOwHN6uDhr3RYsujPx3V1kTjfznSvKgwoWJeb\"\n",
    "access_secret=\"rcpEYhDXDlTvfx8sKsDrbBkdPCHZsChzvGBhS3hEqjUNC\"\n",
    "\n",
    "auth=OAuthHandler(consumer_key, consumer_secret)\n",
    "auth.set_access_token(access_token, access_secret)\n",
    "\n",
    "api=tweepy.API(auth)"
   ]
  },
  {
   "cell_type": "code",
   "execution_count": 3,
   "metadata": {},
   "outputs": [],
   "source": [
    "class MyListener(StreamListener):\n",
    "    \n",
    "    def on_data(self, data):\n",
    "        try:\n",
    "            with open('async_data_v2.json', 'a') as f:\n",
    "                f.write(data)\n",
    "                return True\n",
    "        except SSL.WantWriteError:\n",
    "            return 0\n",
    "        except SSL.WantReadError:\n",
    "            self.writeBlockedOnRead = 1\n",
    "            Connection.stopWriting(self)\n",
    "            Connection.startReading(self)\n",
    "            return 0\n",
    "        except BaseException as e:\n",
    "            print(\"Error on_data: %s\" % str(e))\n",
    "        return True\n",
    " \n",
    "    def on_error(self, status):\n",
    "        print(status)\n",
    "        return True"
   ]
  },
  {
   "cell_type": "code",
   "execution_count": 4,
   "metadata": {},
   "outputs": [],
   "source": [
    "twitter_stream = Stream(auth, MyListener())\n",
    "twitter_stream.filter(track=['#api'],languages=['en'], async=True)"
   ]
  }
 ],
 "metadata": {
  "kernelspec": {
   "display_name": "Python 3",
   "language": "python",
   "name": "python3"
  },
  "language_info": {
   "codemirror_mode": {
    "name": "ipython",
    "version": 3
   },
   "file_extension": ".py",
   "mimetype": "text/x-python",
   "name": "python",
   "nbconvert_exporter": "python",
   "pygments_lexer": "ipython3",
   "version": "3.6.4"
  }
 },
 "nbformat": 4,
 "nbformat_minor": 2
}
