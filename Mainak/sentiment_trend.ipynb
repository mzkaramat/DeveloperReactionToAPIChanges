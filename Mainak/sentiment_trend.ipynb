{
 "cells": [
  {
   "cell_type": "code",
   "execution_count": 98,
   "metadata": {},
   "outputs": [],
   "source": [
    "import utility as util\n",
    "import pandas as pd\n",
    "%matplotlib inline\n",
    "import matplotlib.pyplot as plt"
   ]
  },
  {
   "cell_type": "code",
   "execution_count": 99,
   "metadata": {},
   "outputs": [
    {
     "name": "stderr",
     "output_type": "stream",
     "text": [
      "/home/shayoni/mainak/DeveloperReactionToAPIChanges/Mainak/utility.py:3: FutureWarning: from_csv is deprecated. Please use read_csv(...) instead. Note that some of the default arguments are different, so please refer to the documentation for from_csv when changing your function calls\n",
      "  df=pd.DataFrame.from_csv(file_name)\n"
     ]
    }
   ],
   "source": [
    "df=util.load_csv_to_df(\"labelled_ycombi.csv\")"
   ]
  },
  {
   "cell_type": "code",
   "execution_count": 100,
   "metadata": {},
   "outputs": [
    {
     "data": {
      "text/html": [
       "<div>\n",
       "<style scoped>\n",
       "    .dataframe tbody tr th:only-of-type {\n",
       "        vertical-align: middle;\n",
       "    }\n",
       "\n",
       "    .dataframe tbody tr th {\n",
       "        vertical-align: top;\n",
       "    }\n",
       "\n",
       "    .dataframe thead th {\n",
       "        text-align: right;\n",
       "    }\n",
       "</style>\n",
       "<table border=\"1\" class=\"dataframe\">\n",
       "  <thead>\n",
       "    <tr style=\"text-align: right;\">\n",
       "      <th></th>\n",
       "      <th>post</th>\n",
       "      <th>topic</th>\n",
       "      <th>processed_post</th>\n",
       "      <th>sentiment</th>\n",
       "    </tr>\n",
       "    <tr>\n",
       "      <th>created_at</th>\n",
       "      <th></th>\n",
       "      <th></th>\n",
       "      <th></th>\n",
       "      <th></th>\n",
       "    </tr>\n",
       "  </thead>\n",
       "  <tbody>\n",
       "    <tr>\n",
       "      <th>2018-07-05 10:39:40</th>\n",
       "      <td>Hello Hacker-Newsers!&lt;p&gt;I’m Armin, co-maker of...</td>\n",
       "      <td>Twitter</td>\n",
       "      <td>hello hacker-news &lt;p&gt; ’ armin co-mak placid de...</td>\n",
       "      <td>postive</td>\n",
       "    </tr>\n",
       "    <tr>\n",
       "      <th>2018-07-05 05:34:26</th>\n",
       "      <td>I don&amp;#x27;t follow. I have a Twitter profile....</td>\n",
       "      <td>Twitter</td>\n",
       "      <td>#x27 follow twitter profil someon els share ra...</td>\n",
       "      <td>postive</td>\n",
       "    </tr>\n",
       "    <tr>\n",
       "      <th>2018-07-03 01:29:50</th>\n",
       "      <td>There are two closely intertwined but separate...</td>\n",
       "      <td>Twitter</td>\n",
       "      <td>two close intertwin separ issu central govern ...</td>\n",
       "      <td>postive</td>\n",
       "    </tr>\n",
       "    <tr>\n",
       "      <th>2018-06-25 08:14:35</th>\n",
       "      <td>Thanks for sharing this. Fascinating!&lt;p&gt;I&amp;#x27...</td>\n",
       "      <td>Twitter</td>\n",
       "      <td>thank share fascin &lt;p&gt; #x27 big fan serv conte...</td>\n",
       "      <td>postive</td>\n",
       "    </tr>\n",
       "    <tr>\n",
       "      <th>2018-05-27 10:26:52</th>\n",
       "      <td>Go does not use the C stack, so calling into C...</td>\n",
       "      <td>Twitter</td>\n",
       "      <td>go use c stack call c requir set c stack tramp...</td>\n",
       "      <td>negative</td>\n",
       "    </tr>\n",
       "    <tr>\n",
       "      <th>2018-05-16 17:51:56</th>\n",
       "      <td>This might not be an area people want to discu...</td>\n",
       "      <td>Twitter</td>\n",
       "      <td>might area peopl want discuss price make grey ...</td>\n",
       "      <td>postive</td>\n",
       "    </tr>\n",
       "    <tr>\n",
       "      <th>2018-05-16 17:44:15</th>\n",
       "      <td>It seems like they&amp;#x27;re waiting for enterpr...</td>\n",
       "      <td>Twitter</td>\n",
       "      <td>seem like #x27 wait enterpris price &lt;a href=\"h...</td>\n",
       "      <td>neutral</td>\n",
       "    </tr>\n",
       "    <tr>\n",
       "      <th>2018-05-14 23:30:19</th>\n",
       "      <td>There was a point in time, around 5 years ago ...</td>\n",
       "      <td>Twitter</td>\n",
       "      <td>point time around 5 year ago less third parti ...</td>\n",
       "      <td>postive</td>\n",
       "    </tr>\n",
       "    <tr>\n",
       "      <th>2018-05-09 02:59:56</th>\n",
       "      <td>One time, a giant tech company staffed by geni...</td>\n",
       "      <td>Twitter</td>\n",
       "      <td>one time giant tech compani staf genius releas...</td>\n",
       "      <td>postive</td>\n",
       "    </tr>\n",
       "    <tr>\n",
       "      <th>2018-05-03 06:14:09</th>\n",
       "      <td>&amp;gt; I&amp;#x27;m aware of that–that&amp;#x27;s why I ...</td>\n",
       "      <td>Twitter</td>\n",
       "      <td>gt #x27 awar – #x27 said possibl javascript #x...</td>\n",
       "      <td>postive</td>\n",
       "    </tr>\n",
       "  </tbody>\n",
       "</table>\n",
       "</div>"
      ],
      "text/plain": [
       "                                                                  post  \\\n",
       "created_at                                                               \n",
       "2018-07-05 10:39:40  Hello Hacker-Newsers!<p>I’m Armin, co-maker of...   \n",
       "2018-07-05 05:34:26  I don&#x27;t follow. I have a Twitter profile....   \n",
       "2018-07-03 01:29:50  There are two closely intertwined but separate...   \n",
       "2018-06-25 08:14:35  Thanks for sharing this. Fascinating!<p>I&#x27...   \n",
       "2018-05-27 10:26:52  Go does not use the C stack, so calling into C...   \n",
       "2018-05-16 17:51:56  This might not be an area people want to discu...   \n",
       "2018-05-16 17:44:15  It seems like they&#x27;re waiting for enterpr...   \n",
       "2018-05-14 23:30:19  There was a point in time, around 5 years ago ...   \n",
       "2018-05-09 02:59:56  One time, a giant tech company staffed by geni...   \n",
       "2018-05-03 06:14:09  &gt; I&#x27;m aware of that–that&#x27;s why I ...   \n",
       "\n",
       "                       topic  \\\n",
       "created_at                     \n",
       "2018-07-05 10:39:40  Twitter   \n",
       "2018-07-05 05:34:26  Twitter   \n",
       "2018-07-03 01:29:50  Twitter   \n",
       "2018-06-25 08:14:35  Twitter   \n",
       "2018-05-27 10:26:52  Twitter   \n",
       "2018-05-16 17:51:56  Twitter   \n",
       "2018-05-16 17:44:15  Twitter   \n",
       "2018-05-14 23:30:19  Twitter   \n",
       "2018-05-09 02:59:56  Twitter   \n",
       "2018-05-03 06:14:09  Twitter   \n",
       "\n",
       "                                                        processed_post  \\\n",
       "created_at                                                               \n",
       "2018-07-05 10:39:40  hello hacker-news <p> ’ armin co-mak placid de...   \n",
       "2018-07-05 05:34:26  #x27 follow twitter profil someon els share ra...   \n",
       "2018-07-03 01:29:50  two close intertwin separ issu central govern ...   \n",
       "2018-06-25 08:14:35  thank share fascin <p> #x27 big fan serv conte...   \n",
       "2018-05-27 10:26:52  go use c stack call c requir set c stack tramp...   \n",
       "2018-05-16 17:51:56  might area peopl want discuss price make grey ...   \n",
       "2018-05-16 17:44:15  seem like #x27 wait enterpris price <a href=\"h...   \n",
       "2018-05-14 23:30:19  point time around 5 year ago less third parti ...   \n",
       "2018-05-09 02:59:56  one time giant tech compani staf genius releas...   \n",
       "2018-05-03 06:14:09  gt #x27 awar – #x27 said possibl javascript #x...   \n",
       "\n",
       "                    sentiment  \n",
       "created_at                     \n",
       "2018-07-05 10:39:40   postive  \n",
       "2018-07-05 05:34:26   postive  \n",
       "2018-07-03 01:29:50   postive  \n",
       "2018-06-25 08:14:35   postive  \n",
       "2018-05-27 10:26:52  negative  \n",
       "2018-05-16 17:51:56   postive  \n",
       "2018-05-16 17:44:15   neutral  \n",
       "2018-05-14 23:30:19   postive  \n",
       "2018-05-09 02:59:56   postive  \n",
       "2018-05-03 06:14:09   postive  "
      ]
     },
     "execution_count": 100,
     "metadata": {},
     "output_type": "execute_result"
    }
   ],
   "source": [
    "df.head(10)"
   ]
  },
  {
   "cell_type": "code",
   "execution_count": 101,
   "metadata": {},
   "outputs": [
    {
     "data": {
      "image/png": "[encoded data removed]",
      "text/plain": [
       "<Figure size 432x288 with 1 Axes>"
      ]
     },
     "metadata": {},
     "output_type": "display_data"
    }
   ],
   "source": [
    "df_new=df[df[\"sentiment\"]!=\"neutral\"]\n",
    "df_new_t=df_new[df_new[\"topic\"]==\"Twitter\"]\n",
    "pv=pd.pivot_table(df_new_t,index=df_new_t.index.year,columns=[\"topic\",\"sentiment\"],values=\"post\",aggfunc=\"count\")\n",
    "plot=pv.plot()\n",
    "fig = plot.get_figure()\n",
    "fig.savefig(\"ycontrib_twitter_sentiment_trend.png\")"
   ]
  },
  {
   "cell_type": "code",
   "execution_count": 102,
   "metadata": {},
   "outputs": [
    {
     "data": {
      "image/png": "[encoded data removed]",
      "text/plain": [
       "<Figure size 432x288 with 1 Axes>"
      ]
     },
     "metadata": {},
     "output_type": "display_data"
    }
   ],
   "source": [
    "df_new_f=df_new[df_new[\"topic\"]==\"Facebook\"]\n",
    "pv=pd.pivot_table(df_new_f,index=df_new_f.index.year,columns=[\"topic\",\"sentiment\"],values=\"post\",aggfunc=\"count\")\n",
    "plot=pv.plot()\n",
    "fig = plot.get_figure()\n",
    "fig.savefig(\"ycontrib_facebook_sentiment_trend.png\")"
   ]
  },
  {
   "cell_type": "code",
   "execution_count": null,
   "metadata": {},
   "outputs": [],
   "source": []
  }
 ],
 "metadata": {
  "kernelspec": {
   "display_name": "Python 3",
   "language": "python",
   "name": "python3"
  },
  "language_info": {
   "codemirror_mode": {
    "name": "ipython",
    "version": 3
   },
   "file_extension": ".py",
   "mimetype": "text/x-python",
   "name": "python",
   "nbconvert_exporter": "python",
   "pygments_lexer": "ipython3",
   "version": "3.7.3"
  }
 },
 "nbformat": 4,
 "nbformat_minor": 2
}
