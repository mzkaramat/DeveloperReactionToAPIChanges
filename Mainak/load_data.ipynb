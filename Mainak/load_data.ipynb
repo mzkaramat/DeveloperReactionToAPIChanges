{
 "cells": [
  {
   "cell_type": "code",
   "execution_count": 1,
   "metadata": {},
   "outputs": [],
   "source": [
    "import json\n",
    "import xlwt\n",
    "import re\n",
    "import string\n",
    "import pandas as pd\n",
    "from nltk.corpus import stopwords\n",
    "from textblob import TextBlob\n",
    "import nltk"
   ]
  },
  {
   "cell_type": "code",
   "execution_count": 2,
   "metadata": {},
   "outputs": [],
   "source": [
    "emoticons_str = r\"\"\"\n",
    "    (?:\n",
    "        [:=;] # Eyes\n",
    "        [oO\\-]? # Nose (optional)\n",
    "        [D\\)\\]\\(\\]/\\\\OpP] # Mouth\n",
    "    )\"\"\"\n",
    " \n",
    "regex_str = [\n",
    "    emoticons_str,\n",
    "    r'<[^>]+>', # HTML tags\n",
    "    r'(?:@[\\w_]+)', # @-mentions\n",
    "    r\"(?:\\#+[\\w_]+[\\w\\'_\\-]*[\\w_]+)\", # hash-tags\n",
    "    r'http[s]?://(?:[a-z]|[0-9]|[$-_@.&amp;+]|[!*\\(\\),]|(?:%[0-9a-f][0-9a-f]))+', # URLs\n",
    " \n",
    "    r'(?:(?:\\d+,?)+(?:\\.?\\d+)?)', # numbers\n",
    "    r\"(?:[a-z][a-z'\\-_]+[a-z])\", # words with - and '\n",
    "    r'(?:[\\w_]+)', # other words\n",
    "    r'(?:\\S)' # anything else\n",
    "]\n",
    "    \n",
    "tokens_re = re.compile(r'('+'|'.join(regex_str)+')', re.VERBOSE | re.IGNORECASE)\n",
    "emoticon_re = re.compile(r'^'+emoticons_str+'$', re.VERBOSE | re.IGNORECASE)\n",
    "\n",
    "# tokenize the text called by preprocess\n",
    "def tokenize(s):\n",
    "    return tokens_re.findall(s)\n",
    "\n",
    "# stopwords removal\n",
    "punctuation = list(string.punctuation)\n",
    "stop = stopwords.words('english') + punctuation + ['rt', 'via']\n",
    "\n",
    "# remove stopwords called by preprocess\n",
    "def removeStopWords(s):\n",
    "    notStopword = [word for word in s if word not in stop]\n",
    "    return notStopword\n",
    "\n",
    "# Porter Stemmer\n",
    "ps = nltk.PorterStemmer()\n",
    "def stemming(s):\n",
    "    text = [ps.stem(word) for word in s]\n",
    "    return text\n",
    "\n",
    "#preprocess the text\n",
    "def preprocess(s, lowercase=False):\n",
    "    tokens = tokenize(s)\n",
    "    if lowercase:\n",
    "        tokens = [token if emoticon_re.search(token) else token.lower() for token in tokens]\n",
    "    stop_word_removed = removeStopWords(tokens)\n",
    "    stemmed_text = stemming(stop_word_removed)\n",
    "    return \" \".join(stemmed_text)\n",
    "\n",
    "# sentiment extract\n",
    "def sentiment_value(s):\n",
    "    if(TextBlob(s).sentiment.polarity > 0):\n",
    "        return 'postive'\n",
    "    elif(TextBlob(s).sentiment.polarity < 0):\n",
    "        return 'negative'\n",
    "    else:\n",
    "        return 'neutral'\n",
    "    \n",
    "# write data to excel\n",
    "def write_to_excel(df):\n",
    "    writer=pd.ExcelWriter('labelled_tweets.xlsx')\n",
    "    df.to_excel(writer,'sheet2')\n",
    "    writer.save()\n"
   ]
  },
  {
   "cell_type": "code",
   "execution_count": 3,
   "metadata": {},
   "outputs": [
    {
     "name": "stdout",
     "output_type": "stream",
     "text": [
      "                                                text  \\\n",
      "0  RT @ok_grow: GraphQL Schema Design: Building E...   \n",
      "1  RT @SennoGroup: Sentiment Analysis for Everyon...   \n",
      "2  RT @SennoGroup: Sentiment Analysis for Everyon...   \n",
      "3  RT @SennoGroup: Sentiment Analysis for Everyon...   \n",
      "4  RT @CrowdConscious: The team at @binance are s...   \n",
      "5  RT @SMACCloud: You don't need to leave the #of...   \n",
      "6  RT @SennoGroup: Sentiment Analysis for Everyon...   \n",
      "7  RT @SennoGroup: Sentiment Analysis for Everyon...   \n",
      "8  Exposing #AWS #Lambda #functions with the #API...   \n",
      "9  RT @CrowdConscious: The team at @binance are s...   \n",
      "\n",
      "                                      processed_text sentiment  \n",
      "0  @ok_grow graphql schema design build evolv sch...   neutral  \n",
      "1  @sennogroup sentiment analysi everyon » https:...   neutral  \n",
      "2  @sennogroup sentiment analysi everyon » https:...   neutral  \n",
      "3  @sennogroup sentiment analysi everyon » https:...   neutral  \n",
      "4  @crowdconsci team @binanc shake thing #trade c...   neutral  \n",
      "5  @smaccloud need leav #offic earlier work #home...   neutral  \n",
      "6  @sennogroup sentiment analysi everyon » https:...   neutral  \n",
      "7  @sennogroup sentiment analysi everyon » https:...   neutral  \n",
      "8  expos #aw #lambda #function #api #gateway @asa...   neutral  \n",
      "9  @crowdconsci team @binanc shake thing #trade c...   neutral  \n"
     ]
    }
   ],
   "source": [
    "df = pd.read_json('async_data_v2.json',lines=True)\n",
    "dataset = df.filter(['text'],axis=1)\n",
    "dataset['processed_text']=dataset['text'].apply(lambda x : preprocess(x,True))\n",
    "dataset['sentiment']=dataset['processed_text'].apply(lambda x : sentiment_value(x))\n",
    "write_to_excel(dataset)\n",
    "print(dataset.head(10))"
   ]
  }
 ],
 "metadata": {
  "kernelspec": {
   "display_name": "Python 3",
   "language": "python",
   "name": "python3"
  },
  "language_info": {
   "codemirror_mode": {
    "name": "ipython",
    "version": 3
   },
   "file_extension": ".py",
   "mimetype": "text/x-python",
   "name": "python",
   "nbconvert_exporter": "python",
   "pygments_lexer": "ipython3",
   "version": "3.6.4"
  }
 },
 "nbformat": 4,
 "nbformat_minor": 2
}
