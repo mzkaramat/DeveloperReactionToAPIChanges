{
 "cells": [
  {
   "cell_type": "code",
   "execution_count": 1,
   "metadata": {},
   "outputs": [],
   "source": [
    "import utility as util"
   ]
  },
  {
   "cell_type": "code",
   "execution_count": 2,
   "metadata": {},
   "outputs": [],
   "source": [
    "df=util.readCSV2df(\"results-survey.csv\")"
   ]
  },
  {
   "cell_type": "code",
   "execution_count": 3,
   "metadata": {},
   "outputs": [
    {
     "name": "stdout",
     "output_type": "stream",
     "text": [
      "No of entries in the survey:  49\n"
     ]
    }
   ],
   "source": [
    "print(\"No of entries in the survey: \",len(df))"
   ]
  },
  {
   "cell_type": "code",
   "execution_count": 4,
   "metadata": {
    "scrolled": true
   },
   "outputs": [
    {
     "data": {
      "text/html": [
       "<div>\n",
       "<style scoped>\n",
       "    .dataframe tbody tr th:only-of-type {\n",
       "        vertical-align: middle;\n",
       "    }\n",
       "\n",
       "    .dataframe tbody tr th {\n",
       "        vertical-align: top;\n",
       "    }\n",
       "\n",
       "    .dataframe thead th {\n",
       "        text-align: right;\n",
       "    }\n",
       "</style>\n",
       "<table border=\"1\" class=\"dataframe\">\n",
       "  <thead>\n",
       "    <tr style=\"text-align: right;\">\n",
       "      <th></th>\n",
       "      <th>What is your profession ?</th>\n",
       "      <th>How many years you are associated with software development for?</th>\n",
       "      <th>Have you ever used any third party API in your software development projects? e.g. Google Map API, Twitter Ads API etc.</th>\n",
       "      <th>Please name some of the API's providers you've worked with. [Google Maps API]</th>\n",
       "      <th>Please name some of the API's providers you've worked with. [Twitter API]</th>\n",
       "      <th>Please name some of the API's providers you've worked with. [WinApi]</th>\n",
       "      <th>Please name some of the API's providers you've worked with. [Facebook Graph API]</th>\n",
       "      <th>Please rate your experience of Google Maps APIs. 1 stand for very good experience, 5 stands for worst experience. [Very simple to use]</th>\n",
       "      <th>Please rate your experience of Google Maps APIs. 1 stand for very good experience, 5 stands for worst experience. [Good documentation]</th>\n",
       "      <th>Please rate your experience of Google Maps APIs. 1 stand for very good experience, 5 stands for worst experience. [Quality of APIs are good]</th>\n",
       "      <th>...</th>\n",
       "      <th>Please rate your experience of WinAPI APIs. 1 stand for very good experience, 5 stands for worst experience. [Highly secured]</th>\n",
       "      <th>Please rate your experience of WinAPI APIs. 1 stand for very good experience, 5 stands for worst experience. [Please rate your overall satisfaction]</th>\n",
       "      <th>Please rate your experience of Facebook Graph APIs. 1 stand for very good experience, 5 stands for worst experience. [Very simple to use]</th>\n",
       "      <th>Please rate your experience of Facebook Graph APIs. 1 stand for very good experience, 5 stands for worst experience. [Good documentation]</th>\n",
       "      <th>Please rate your experience of Facebook Graph APIs. 1 stand for very good experience, 5 stands for worst experience. [Quality of APIs are good]</th>\n",
       "      <th>Please rate your experience of Facebook Graph APIs. 1 stand for very good experience, 5 stands for worst experience. [Return meaningful response]</th>\n",
       "      <th>Please rate your experience of Facebook Graph APIs. 1 stand for very good experience, 5 stands for worst experience. [Free and unlimited access]</th>\n",
       "      <th>Please rate your experience of Facebook Graph APIs. 1 stand for very good experience, 5 stands for worst experience. [Compatible to the previous version]</th>\n",
       "      <th>Please rate your experience of Facebook Graph APIs. 1 stand for very good experience, 5 stands for worst experience. [Highly secured]</th>\n",
       "      <th>Please rate your experience of Facebook Graph APIs. 1 stand for very good experience, 5 stands for worst experience. [Please rate your overall satisfaction]</th>\n",
       "    </tr>\n",
       "  </thead>\n",
       "  <tbody>\n",
       "    <tr>\n",
       "      <th>0</th>\n",
       "      <td>Software developer</td>\n",
       "      <td>1.0</td>\n",
       "      <td>Yes</td>\n",
       "      <td>Yes</td>\n",
       "      <td>No</td>\n",
       "      <td>No</td>\n",
       "      <td>No</td>\n",
       "      <td>5.0</td>\n",
       "      <td>5.0</td>\n",
       "      <td>3.0</td>\n",
       "      <td>...</td>\n",
       "      <td>NaN</td>\n",
       "      <td>NaN</td>\n",
       "      <td>NaN</td>\n",
       "      <td>NaN</td>\n",
       "      <td>NaN</td>\n",
       "      <td>NaN</td>\n",
       "      <td>NaN</td>\n",
       "      <td>NaN</td>\n",
       "      <td>NaN</td>\n",
       "      <td>NaN</td>\n",
       "    </tr>\n",
       "    <tr>\n",
       "      <th>1</th>\n",
       "      <td>Student</td>\n",
       "      <td>5.0</td>\n",
       "      <td>Yes</td>\n",
       "      <td>Yes</td>\n",
       "      <td>Yes</td>\n",
       "      <td>No</td>\n",
       "      <td>No</td>\n",
       "      <td>1.0</td>\n",
       "      <td>3.0</td>\n",
       "      <td>2.0</td>\n",
       "      <td>...</td>\n",
       "      <td>NaN</td>\n",
       "      <td>NaN</td>\n",
       "      <td>NaN</td>\n",
       "      <td>NaN</td>\n",
       "      <td>NaN</td>\n",
       "      <td>NaN</td>\n",
       "      <td>NaN</td>\n",
       "      <td>NaN</td>\n",
       "      <td>NaN</td>\n",
       "      <td>NaN</td>\n",
       "    </tr>\n",
       "    <tr>\n",
       "      <th>2</th>\n",
       "      <td>Student</td>\n",
       "      <td>2.0</td>\n",
       "      <td>Yes</td>\n",
       "      <td>Yes</td>\n",
       "      <td>Yes</td>\n",
       "      <td>No</td>\n",
       "      <td>Yes</td>\n",
       "      <td>3.0</td>\n",
       "      <td>4.0</td>\n",
       "      <td>3.0</td>\n",
       "      <td>...</td>\n",
       "      <td>NaN</td>\n",
       "      <td>NaN</td>\n",
       "      <td>2.0</td>\n",
       "      <td>2.0</td>\n",
       "      <td>2.0</td>\n",
       "      <td>2.0</td>\n",
       "      <td>2.0</td>\n",
       "      <td>3.0</td>\n",
       "      <td>3.0</td>\n",
       "      <td>2.0</td>\n",
       "    </tr>\n",
       "    <tr>\n",
       "      <th>3</th>\n",
       "      <td>NaN</td>\n",
       "      <td>NaN</td>\n",
       "      <td>NaN</td>\n",
       "      <td>NaN</td>\n",
       "      <td>NaN</td>\n",
       "      <td>NaN</td>\n",
       "      <td>NaN</td>\n",
       "      <td>NaN</td>\n",
       "      <td>NaN</td>\n",
       "      <td>NaN</td>\n",
       "      <td>...</td>\n",
       "      <td>NaN</td>\n",
       "      <td>NaN</td>\n",
       "      <td>NaN</td>\n",
       "      <td>NaN</td>\n",
       "      <td>NaN</td>\n",
       "      <td>NaN</td>\n",
       "      <td>NaN</td>\n",
       "      <td>NaN</td>\n",
       "      <td>NaN</td>\n",
       "      <td>NaN</td>\n",
       "    </tr>\n",
       "    <tr>\n",
       "      <th>4</th>\n",
       "      <td>NaN</td>\n",
       "      <td>NaN</td>\n",
       "      <td>NaN</td>\n",
       "      <td>NaN</td>\n",
       "      <td>NaN</td>\n",
       "      <td>NaN</td>\n",
       "      <td>NaN</td>\n",
       "      <td>NaN</td>\n",
       "      <td>NaN</td>\n",
       "      <td>NaN</td>\n",
       "      <td>...</td>\n",
       "      <td>NaN</td>\n",
       "      <td>NaN</td>\n",
       "      <td>NaN</td>\n",
       "      <td>NaN</td>\n",
       "      <td>NaN</td>\n",
       "      <td>NaN</td>\n",
       "      <td>NaN</td>\n",
       "      <td>NaN</td>\n",
       "      <td>NaN</td>\n",
       "      <td>NaN</td>\n",
       "    </tr>\n",
       "  </tbody>\n",
       "</table>\n",
       "<p>5 rows × 39 columns</p>\n",
       "</div>"
      ],
      "text/plain": [
       "  What is your profession ?  \\\n",
       "0        Software developer   \n",
       "1                   Student   \n",
       "2                   Student   \n",
       "3                       NaN   \n",
       "4                       NaN   \n",
       "\n",
       "   How many years you are associated with software development for?  \\\n",
       "0                                                1.0                  \n",
       "1                                                5.0                  \n",
       "2                                                2.0                  \n",
       "3                                                NaN                  \n",
       "4                                                NaN                  \n",
       "\n",
       "  Have you ever used any third party API in your software development projects? e.g. Google Map API, Twitter Ads API etc.  \\\n",
       "0                                                Yes                                                                        \n",
       "1                                                Yes                                                                        \n",
       "2                                                Yes                                                                        \n",
       "3                                                NaN                                                                        \n",
       "4                                                NaN                                                                        \n",
       "\n",
       "  Please name some of the API's providers you've worked with. [Google Maps API]  \\\n",
       "0                                                Yes                              \n",
       "1                                                Yes                              \n",
       "2                                                Yes                              \n",
       "3                                                NaN                              \n",
       "4                                                NaN                              \n",
       "\n",
       "  Please name some of the API's providers you've worked with. [Twitter API]  \\\n",
       "0                                                 No                          \n",
       "1                                                Yes                          \n",
       "2                                                Yes                          \n",
       "3                                                NaN                          \n",
       "4                                                NaN                          \n",
       "\n",
       "  Please name some of the API's providers you've worked with. [WinApi]  \\\n",
       "0                                                 No                     \n",
       "1                                                 No                     \n",
       "2                                                 No                     \n",
       "3                                                NaN                     \n",
       "4                                                NaN                     \n",
       "\n",
       "  Please name some of the API's providers you've worked with. [Facebook Graph API]  \\\n",
       "0                                                 No                                 \n",
       "1                                                 No                                 \n",
       "2                                                Yes                                 \n",
       "3                                                NaN                                 \n",
       "4                                                NaN                                 \n",
       "\n",
       "   Please rate your experience of Google Maps APIs. 1 stand for very good experience, 5 stands for worst experience. [Very simple to use]  \\\n",
       "0                                                5.0                                                                                        \n",
       "1                                                1.0                                                                                        \n",
       "2                                                3.0                                                                                        \n",
       "3                                                NaN                                                                                        \n",
       "4                                                NaN                                                                                        \n",
       "\n",
       "   Please rate your experience of Google Maps APIs. 1 stand for very good experience, 5 stands for worst experience. [Good documentation]  \\\n",
       "0                                                5.0                                                                                        \n",
       "1                                                3.0                                                                                        \n",
       "2                                                4.0                                                                                        \n",
       "3                                                NaN                                                                                        \n",
       "4                                                NaN                                                                                        \n",
       "\n",
       "   Please rate your experience of Google Maps APIs. 1 stand for very good experience, 5 stands for worst experience. [Quality of APIs are good]  \\\n",
       "0                                                3.0                                                                                              \n",
       "1                                                2.0                                                                                              \n",
       "2                                                3.0                                                                                              \n",
       "3                                                NaN                                                                                              \n",
       "4                                                NaN                                                                                              \n",
       "\n",
       "   ...  \\\n",
       "0  ...   \n",
       "1  ...   \n",
       "2  ...   \n",
       "3  ...   \n",
       "4  ...   \n",
       "\n",
       "   Please rate your experience of WinAPI APIs. 1 stand for very good experience, 5 stands for worst experience. [Highly secured]  \\\n",
       "0                                                NaN                                                                               \n",
       "1                                                NaN                                                                               \n",
       "2                                                NaN                                                                               \n",
       "3                                                NaN                                                                               \n",
       "4                                                NaN                                                                               \n",
       "\n",
       "   Please rate your experience of WinAPI APIs. 1 stand for very good experience, 5 stands for worst experience. [Please rate your overall satisfaction]  \\\n",
       "0                                                NaN                                                                                                      \n",
       "1                                                NaN                                                                                                      \n",
       "2                                                NaN                                                                                                      \n",
       "3                                                NaN                                                                                                      \n",
       "4                                                NaN                                                                                                      \n",
       "\n",
       "   Please rate your experience of Facebook Graph APIs. 1 stand for very good experience, 5 stands for worst experience. [Very simple to use]  \\\n",
       "0                                                NaN                                                                                           \n",
       "1                                                NaN                                                                                           \n",
       "2                                                2.0                                                                                           \n",
       "3                                                NaN                                                                                           \n",
       "4                                                NaN                                                                                           \n",
       "\n",
       "   Please rate your experience of Facebook Graph APIs. 1 stand for very good experience, 5 stands for worst experience. [Good documentation]  \\\n",
       "0                                                NaN                                                                                           \n",
       "1                                                NaN                                                                                           \n",
       "2                                                2.0                                                                                           \n",
       "3                                                NaN                                                                                           \n",
       "4                                                NaN                                                                                           \n",
       "\n",
       "   Please rate your experience of Facebook Graph APIs. 1 stand for very good experience, 5 stands for worst experience. [Quality of APIs are good]  \\\n",
       "0                                                NaN                                                                                                 \n",
       "1                                                NaN                                                                                                 \n",
       "2                                                2.0                                                                                                 \n",
       "3                                                NaN                                                                                                 \n",
       "4                                                NaN                                                                                                 \n",
       "\n",
       "   Please rate your experience of Facebook Graph APIs. 1 stand for very good experience, 5 stands for worst experience. [Return meaningful response]  \\\n",
       "0                                                NaN                                                                                                   \n",
       "1                                                NaN                                                                                                   \n",
       "2                                                2.0                                                                                                   \n",
       "3                                                NaN                                                                                                   \n",
       "4                                                NaN                                                                                                   \n",
       "\n",
       "   Please rate your experience of Facebook Graph APIs. 1 stand for very good experience, 5 stands for worst experience. [Free and unlimited access]  \\\n",
       "0                                                NaN                                                                                                  \n",
       "1                                                NaN                                                                                                  \n",
       "2                                                2.0                                                                                                  \n",
       "3                                                NaN                                                                                                  \n",
       "4                                                NaN                                                                                                  \n",
       "\n",
       "   Please rate your experience of Facebook Graph APIs. 1 stand for very good experience, 5 stands for worst experience. [Compatible to the previous version]  \\\n",
       "0                                                NaN                                                                                                           \n",
       "1                                                NaN                                                                                                           \n",
       "2                                                3.0                                                                                                           \n",
       "3                                                NaN                                                                                                           \n",
       "4                                                NaN                                                                                                           \n",
       "\n",
       "   Please rate your experience of Facebook Graph APIs. 1 stand for very good experience, 5 stands for worst experience. [Highly secured]  \\\n",
       "0                                                NaN                                                                                       \n",
       "1                                                NaN                                                                                       \n",
       "2                                                3.0                                                                                       \n",
       "3                                                NaN                                                                                       \n",
       "4                                                NaN                                                                                       \n",
       "\n",
       "   Please rate your experience of Facebook Graph APIs. 1 stand for very good experience, 5 stands for worst experience. [Please rate your overall satisfaction]  \n",
       "0                                                NaN                                                                                                             \n",
       "1                                                NaN                                                                                                             \n",
       "2                                                2.0                                                                                                             \n",
       "3                                                NaN                                                                                                             \n",
       "4                                                NaN                                                                                                             \n",
       "\n",
       "[5 rows x 39 columns]"
      ]
     },
     "execution_count": 4,
     "metadata": {},
     "output_type": "execute_result"
    }
   ],
   "source": [
    "df.head()"
   ]
  },
  {
   "cell_type": "code",
   "execution_count": 5,
   "metadata": {},
   "outputs": [
    {
     "name": "stdout",
     "output_type": "stream",
     "text": [
      "Total no of questions/columns:  39\n"
     ]
    }
   ],
   "source": [
    "print(\"Total no of questions/columns: \",len(df.columns.values))"
   ]
  },
  {
   "cell_type": "code",
   "execution_count": 6,
   "metadata": {
    "scrolled": true
   },
   "outputs": [
    {
     "data": {
      "text/plain": [
       "['What is your profession ?',\n",
       " 'How many years you are associated with software development for?',\n",
       " 'Have you ever used any third party API in your software development projects? e.g. Google Map API, Twitter Ads API etc.',\n",
       " \"Please name some of the API's providers you've worked with. [Google Maps API]\",\n",
       " \"Please name some of the API's providers you've worked with. [Twitter API]\",\n",
       " \"Please name some of the API's providers you've worked with. [WinApi]\",\n",
       " \"Please name some of the API's providers you've worked with. [Facebook Graph API]\",\n",
       " 'Please rate your experience of Google Maps APIs. 1 stand for very good experience, 5 stands for worst experience. [Very simple to use]',\n",
       " 'Please rate your experience of Google Maps APIs. 1 stand for very good experience, 5 stands for worst experience. [Good documentation]',\n",
       " 'Please rate your experience of Google Maps APIs. 1 stand for very good experience, 5 stands for worst experience. [Quality of APIs are good]',\n",
       " 'Please rate your experience of Google Maps APIs. 1 stand for very good experience, 5 stands for worst experience. [Return meaningful response]',\n",
       " 'Please rate your experience of Google Maps APIs. 1 stand for very good experience, 5 stands for worst experience. [Free and unlimited access]',\n",
       " 'Please rate your experience of Google Maps APIs. 1 stand for very good experience, 5 stands for worst experience. [Compatible to the previous version]',\n",
       " 'Please rate your experience of Google Maps APIs. 1 stand for very good experience, 5 stands for worst experience. [Highly secured]',\n",
       " 'Please rate your experience of Google Maps APIs. 1 stand for very good experience, 5 stands for worst experience. [Please rate your overall satisfaction]',\n",
       " 'Please rate your experience of Twitter\\xa0APIs. 1 stand for very good experience, 5 stands for worst experience. [Very simple to use]',\n",
       " 'Please rate your experience of Twitter\\xa0APIs. 1 stand for very good experience, 5 stands for worst experience. [Good documentation]',\n",
       " 'Please rate your experience of Twitter\\xa0APIs. 1 stand for very good experience, 5 stands for worst experience. [Quality of APIs are good]',\n",
       " 'Please rate your experience of Twitter\\xa0APIs. 1 stand for very good experience, 5 stands for worst experience. [Return meaningful response]',\n",
       " 'Please rate your experience of Twitter\\xa0APIs. 1 stand for very good experience, 5 stands for worst experience. [Free and unlimited access]',\n",
       " 'Please rate your experience of Twitter\\xa0APIs. 1 stand for very good experience, 5 stands for worst experience. [Compatible to the previous version]',\n",
       " 'Please rate your experience of Twitter\\xa0APIs. 1 stand for very good experience, 5 stands for worst experience. [Highly secured]',\n",
       " 'Please rate your experience of Twitter\\xa0APIs. 1 stand for very good experience, 5 stands for worst experience. [Please rate your overall satisfaction]',\n",
       " 'Please rate your experience of WinAPI APIs. 1 stand for very good experience, 5 stands for worst experience. [Very simple to use]',\n",
       " 'Please rate your experience of WinAPI APIs. 1 stand for very good experience, 5 stands for worst experience. [Good documentation]',\n",
       " 'Please rate your experience of WinAPI APIs. 1 stand for very good experience, 5 stands for worst experience. [Quality of APIs are good]',\n",
       " 'Please rate your experience of WinAPI APIs. 1 stand for very good experience, 5 stands for worst experience. [Return meaningful response]',\n",
       " 'Please rate your experience of WinAPI APIs. 1 stand for very good experience, 5 stands for worst experience. [Free and unlimited access]',\n",
       " 'Please rate your experience of WinAPI APIs. 1 stand for very good experience, 5 stands for worst experience. [Compatible to the previous version]',\n",
       " 'Please rate your experience of WinAPI APIs. 1 stand for very good experience, 5 stands for worst experience. [Highly secured]',\n",
       " 'Please rate your experience of WinAPI APIs. 1 stand for very good experience, 5 stands for worst experience. [Please rate your overall satisfaction]',\n",
       " 'Please rate your experience of Facebook Graph APIs. 1 stand for very good experience, 5 stands for worst experience. [Very simple to use]',\n",
       " 'Please rate your experience of Facebook Graph APIs. 1 stand for very good experience, 5 stands for worst experience. [Good documentation]',\n",
       " 'Please rate your experience of Facebook Graph APIs. 1 stand for very good experience, 5 stands for worst experience. [Quality of APIs are good]',\n",
       " 'Please rate your experience of Facebook Graph APIs. 1 stand for very good experience, 5 stands for worst experience. [Return meaningful response]',\n",
       " 'Please rate your experience of Facebook Graph APIs. 1 stand for very good experience, 5 stands for worst experience. [Free and unlimited access]',\n",
       " 'Please rate your experience of Facebook Graph APIs. 1 stand for very good experience, 5 stands for worst experience. [Compatible to the previous version]',\n",
       " 'Please rate your experience of Facebook Graph APIs. 1 stand for very good experience, 5 stands for worst experience. [Highly secured]',\n",
       " 'Please rate your experience of Facebook Graph APIs. 1 stand for very good experience, 5 stands for worst experience. [Please rate your overall satisfaction]']"
      ]
     },
     "execution_count": 6,
     "metadata": {},
     "output_type": "execute_result"
    }
   ],
   "source": [
    "old_columns=df.columns.values\n",
    "old_columns=list(old_columns)\n",
    "old_columns"
   ]
  },
  {
   "cell_type": "code",
   "execution_count": 7,
   "metadata": {},
   "outputs": [
    {
     "data": {
      "text/html": [
       "<div>\n",
       "<style scoped>\n",
       "    .dataframe tbody tr th:only-of-type {\n",
       "        vertical-align: middle;\n",
       "    }\n",
       "\n",
       "    .dataframe tbody tr th {\n",
       "        vertical-align: top;\n",
       "    }\n",
       "\n",
       "    .dataframe thead th {\n",
       "        text-align: right;\n",
       "    }\n",
       "</style>\n",
       "<table border=\"1\" class=\"dataframe\">\n",
       "  <thead>\n",
       "    <tr style=\"text-align: right;\">\n",
       "      <th></th>\n",
       "      <th>0</th>\n",
       "      <th>1</th>\n",
       "      <th>2</th>\n",
       "      <th>3</th>\n",
       "      <th>4</th>\n",
       "      <th>5</th>\n",
       "      <th>6</th>\n",
       "      <th>7</th>\n",
       "      <th>8</th>\n",
       "      <th>9</th>\n",
       "      <th>...</th>\n",
       "      <th>29</th>\n",
       "      <th>30</th>\n",
       "      <th>31</th>\n",
       "      <th>32</th>\n",
       "      <th>33</th>\n",
       "      <th>34</th>\n",
       "      <th>35</th>\n",
       "      <th>36</th>\n",
       "      <th>37</th>\n",
       "      <th>38</th>\n",
       "    </tr>\n",
       "  </thead>\n",
       "  <tbody>\n",
       "    <tr>\n",
       "      <th>0</th>\n",
       "      <td>Software developer</td>\n",
       "      <td>1.0</td>\n",
       "      <td>Yes</td>\n",
       "      <td>Yes</td>\n",
       "      <td>No</td>\n",
       "      <td>No</td>\n",
       "      <td>No</td>\n",
       "      <td>5.0</td>\n",
       "      <td>5.0</td>\n",
       "      <td>3.0</td>\n",
       "      <td>...</td>\n",
       "      <td>NaN</td>\n",
       "      <td>NaN</td>\n",
       "      <td>NaN</td>\n",
       "      <td>NaN</td>\n",
       "      <td>NaN</td>\n",
       "      <td>NaN</td>\n",
       "      <td>NaN</td>\n",
       "      <td>NaN</td>\n",
       "      <td>NaN</td>\n",
       "      <td>NaN</td>\n",
       "    </tr>\n",
       "    <tr>\n",
       "      <th>1</th>\n",
       "      <td>Student</td>\n",
       "      <td>5.0</td>\n",
       "      <td>Yes</td>\n",
       "      <td>Yes</td>\n",
       "      <td>Yes</td>\n",
       "      <td>No</td>\n",
       "      <td>No</td>\n",
       "      <td>1.0</td>\n",
       "      <td>3.0</td>\n",
       "      <td>2.0</td>\n",
       "      <td>...</td>\n",
       "      <td>NaN</td>\n",
       "      <td>NaN</td>\n",
       "      <td>NaN</td>\n",
       "      <td>NaN</td>\n",
       "      <td>NaN</td>\n",
       "      <td>NaN</td>\n",
       "      <td>NaN</td>\n",
       "      <td>NaN</td>\n",
       "      <td>NaN</td>\n",
       "      <td>NaN</td>\n",
       "    </tr>\n",
       "    <tr>\n",
       "      <th>2</th>\n",
       "      <td>Student</td>\n",
       "      <td>2.0</td>\n",
       "      <td>Yes</td>\n",
       "      <td>Yes</td>\n",
       "      <td>Yes</td>\n",
       "      <td>No</td>\n",
       "      <td>Yes</td>\n",
       "      <td>3.0</td>\n",
       "      <td>4.0</td>\n",
       "      <td>3.0</td>\n",
       "      <td>...</td>\n",
       "      <td>NaN</td>\n",
       "      <td>NaN</td>\n",
       "      <td>2.0</td>\n",
       "      <td>2.0</td>\n",
       "      <td>2.0</td>\n",
       "      <td>2.0</td>\n",
       "      <td>2.0</td>\n",
       "      <td>3.0</td>\n",
       "      <td>3.0</td>\n",
       "      <td>2.0</td>\n",
       "    </tr>\n",
       "    <tr>\n",
       "      <th>3</th>\n",
       "      <td>NaN</td>\n",
       "      <td>NaN</td>\n",
       "      <td>NaN</td>\n",
       "      <td>NaN</td>\n",
       "      <td>NaN</td>\n",
       "      <td>NaN</td>\n",
       "      <td>NaN</td>\n",
       "      <td>NaN</td>\n",
       "      <td>NaN</td>\n",
       "      <td>NaN</td>\n",
       "      <td>...</td>\n",
       "      <td>NaN</td>\n",
       "      <td>NaN</td>\n",
       "      <td>NaN</td>\n",
       "      <td>NaN</td>\n",
       "      <td>NaN</td>\n",
       "      <td>NaN</td>\n",
       "      <td>NaN</td>\n",
       "      <td>NaN</td>\n",
       "      <td>NaN</td>\n",
       "      <td>NaN</td>\n",
       "    </tr>\n",
       "    <tr>\n",
       "      <th>4</th>\n",
       "      <td>NaN</td>\n",
       "      <td>NaN</td>\n",
       "      <td>NaN</td>\n",
       "      <td>NaN</td>\n",
       "      <td>NaN</td>\n",
       "      <td>NaN</td>\n",
       "      <td>NaN</td>\n",
       "      <td>NaN</td>\n",
       "      <td>NaN</td>\n",
       "      <td>NaN</td>\n",
       "      <td>...</td>\n",
       "      <td>NaN</td>\n",
       "      <td>NaN</td>\n",
       "      <td>NaN</td>\n",
       "      <td>NaN</td>\n",
       "      <td>NaN</td>\n",
       "      <td>NaN</td>\n",
       "      <td>NaN</td>\n",
       "      <td>NaN</td>\n",
       "      <td>NaN</td>\n",
       "      <td>NaN</td>\n",
       "    </tr>\n",
       "  </tbody>\n",
       "</table>\n",
       "<p>5 rows × 39 columns</p>\n",
       "</div>"
      ],
      "text/plain": [
       "                   0    1    2    3    4    5    6    7    8    9   ...  29  \\\n",
       "0  Software developer  1.0  Yes  Yes   No   No   No  5.0  5.0  3.0  ... NaN   \n",
       "1             Student  5.0  Yes  Yes  Yes   No   No  1.0  3.0  2.0  ... NaN   \n",
       "2             Student  2.0  Yes  Yes  Yes   No  Yes  3.0  4.0  3.0  ... NaN   \n",
       "3                 NaN  NaN  NaN  NaN  NaN  NaN  NaN  NaN  NaN  NaN  ... NaN   \n",
       "4                 NaN  NaN  NaN  NaN  NaN  NaN  NaN  NaN  NaN  NaN  ... NaN   \n",
       "\n",
       "   30   31   32   33   34   35   36   37   38  \n",
       "0 NaN  NaN  NaN  NaN  NaN  NaN  NaN  NaN  NaN  \n",
       "1 NaN  NaN  NaN  NaN  NaN  NaN  NaN  NaN  NaN  \n",
       "2 NaN  2.0  2.0  2.0  2.0  2.0  3.0  3.0  2.0  \n",
       "3 NaN  NaN  NaN  NaN  NaN  NaN  NaN  NaN  NaN  \n",
       "4 NaN  NaN  NaN  NaN  NaN  NaN  NaN  NaN  NaN  \n",
       "\n",
       "[5 rows x 39 columns]"
      ]
     },
     "execution_count": 7,
     "metadata": {},
     "output_type": "execute_result"
    }
   ],
   "source": [
    "df.columns=range(39)\n",
    "df.head()"
   ]
  },
  {
   "cell_type": "code",
   "execution_count": 8,
   "metadata": {},
   "outputs": [],
   "source": [
    "from collections import Counter\n",
    "import math\n",
    "prof=df[0].apply(lambda x: x.lower().strip() if isinstance(x,str) else str(x))\n",
    "distict_prof_key=list(Counter(prof).keys())\n",
    "distinct_val=list(Counter(prof).values())\n",
    "distinct_prof={}\n",
    "for indx,key in enumerate(distict_prof_key):\n",
    "    distinct_prof[key]=distinct_val[indx]"
   ]
  },
  {
   "cell_type": "code",
   "execution_count": 9,
   "metadata": {},
   "outputs": [
    {
     "data": {
      "text/plain": [
       "{'software developer': 9,\n",
       " 'student': 12,\n",
       " 'nan': 21,\n",
       " 'student - data scientist': 1,\n",
       " 'it professional': 1,\n",
       " 'data engineer': 1,\n",
       " 'working student software developer': 1,\n",
       " 'azure cloud architect': 1,\n",
       " 'ui/ux designer': 1,\n",
       " 'operations': 1}"
      ]
     },
     "execution_count": 9,
     "metadata": {},
     "output_type": "execute_result"
    }
   ],
   "source": [
    "distinct_prof['software developer']+=distinct_prof['software professional']+distinct_prof['software engineer']+distinct_prof['sw eng']+distinct_prof['software development engineer']\n",
    "distinct_prof.pop('software professional', None)\n",
    "distinct_prof.pop('software engineer', None)\n",
    "distinct_prof.pop('sw eng', None)\n",
    "distinct_prof.pop('software development engineer', None)\n",
    "distinct_prof"
   ]
  },
  {
   "cell_type": "code",
   "execution_count": 10,
   "metadata": {},
   "outputs": [],
   "source": [
    "import matplotlib.pyplot as plt"
   ]
  },
  {
   "cell_type": "code",
   "execution_count": 11,
   "metadata": {},
   "outputs": [],
   "source": [
    "def plot_value_labels(axis):\n",
    "    rects = axis.patches\n",
    "\n",
    "    # For each bar: Place a label\n",
    "    for rect in rects:\n",
    "        # Get X and Y placement of label from rect.\n",
    "        y_value = rect.get_height()\n",
    "        x_value = rect.get_x() + rect.get_width() / 2\n",
    "\n",
    "        label = '{:.2f}'.format(y_value)\n",
    "\n",
    "        # Vertical alignment for positive values\n",
    "        va = 'bottom'\n",
    "\n",
    "        # If value of bar is negative: Place label below bar\n",
    "        if y_value < 0:\n",
    "            # Invert space to place label below\n",
    "            space *= -1\n",
    "            # Vertically align label at top\n",
    "            va = 'top'\n",
    "\n",
    "        # Create annotation\n",
    "        axis.annotate(label, (x_value, y_value), \n",
    "                      xytext=(0, 2), \n",
    "                      textcoords=\"offset points\", \n",
    "                      ha='center', \n",
    "                      rotation=45, \n",
    "                      va=va)    "
   ]
  },
  {
   "cell_type": "code",
   "execution_count": 12,
   "metadata": {},
   "outputs": [
    {
     "data": {
      "image/png": "[encoded data removed]",
      "text/plain": [
       "<Figure size 432x288 with 1 Axes>"
      ]
     },
     "metadata": {
      "needs_background": "light"
     },
     "output_type": "display_data"
    }
   ],
   "source": [
    "plt.barh(list(distinct_prof.keys()), list(distinct_prof.values()), align='center')\n",
    "plt.yticks(range(len(distinct_prof)), list(distinct_prof.keys()))\n",
    "#plt.xticks(rotation=90)\n",
    "plt.ylabel(\"Profession\",fontsize=15)\n",
    "plt.xlabel(\"Number of participant\",fontsize=15)\n",
    "#plot_value_labels(plt.gca())\n",
    "fig = plt.gcf()\n",
    "fig.suptitle('Number of participant based on profession', fontsize=15)\n",
    "plt.show()"
   ]
  },
  {
   "cell_type": "code",
   "execution_count": 13,
   "metadata": {},
   "outputs": [
    {
     "data": {
      "text/plain": [
       "array(['Yes', nan, 'No'], dtype=object)"
      ]
     },
     "execution_count": 13,
     "metadata": {},
     "output_type": "execute_result"
    }
   ],
   "source": [
    "df[3].unique()"
   ]
  },
  {
   "cell_type": "code",
   "execution_count": 20,
   "metadata": {},
   "outputs": [],
   "source": [
    "google_api_col_val=df[3].apply(lambda i: 1 if isinstance(i,str) and i==\"Yes\" else 0)"
   ]
  },
  {
   "cell_type": "code",
   "execution_count": 32,
   "metadata": {},
   "outputs": [
    {
     "name": "stdout",
     "output_type": "stream",
     "text": [
      "Number of participants who used Google Map API: 22 and percentage: 44.897959\n"
     ]
    }
   ],
   "source": [
    "import numpy as np\n",
    "gogle_map_api_used=sum(google_api_col_val)\n",
    "gogle_map_api_used_percentage=np.mean(google_api_col_val)*100\n",
    "print(\"Number of participants who used Google Map API: %d and percentage: %f\" %(gogle_map_api_used,gogle_map_api_used_percentage))"
   ]
  },
  {
   "cell_type": "code",
   "execution_count": 33,
   "metadata": {},
   "outputs": [
    {
     "data": {
      "text/plain": [
       "array([ 5.,  1.,  3., nan,  2.,  4.])"
      ]
     },
     "execution_count": 33,
     "metadata": {},
     "output_type": "execute_result"
    }
   ],
   "source": [
    "df[7].unique()"
   ]
  },
  {
   "cell_type": "code",
   "execution_count": 40,
   "metadata": {},
   "outputs": [],
   "source": [
    "rate_constant={\n",
    "    5.0:\"Bad\",\n",
    "    4.0:\"Not Good\",\n",
    "    3.0:\"Average\",\n",
    "    2.0:\"Good\",\n",
    "    1.0:\"Very Good\"\n",
    "}"
   ]
  },
  {
   "cell_type": "code",
   "execution_count": 41,
   "metadata": {},
   "outputs": [
    {
     "data": {
      "text/plain": [
       "{'Bad': 2, 'Very Good': 7, 'Average': 4, 'Good': 7, 'Not Good': 2}"
      ]
     },
     "execution_count": 41,
     "metadata": {},
     "output_type": "execute_result"
    }
   ],
   "source": [
    "simple_to_use_g_map_api=list(df[7])\n",
    "simple_to_use_g_map_api=[a for a in simple_to_use_g_map_api if str(a)!='nan']\n",
    "k=list(Counter(simple_to_use_g_map_api).keys())\n",
    "v=list(Counter(simple_to_use_g_map_api).values())\n",
    "simple_to_use_g_map_api_stat={}\n",
    "for indx, val in enumerate(k):\n",
    "    simple_to_use_g_map_api_stat[rate_constant[val]]=v[indx]\n",
    "simple_to_use_g_map_api_stat"
   ]
  },
  {
   "cell_type": "code",
   "execution_count": 66,
   "metadata": {},
   "outputs": [
    {
     "data": {
      "image/png": "[encoded data removed]",
      "text/plain": [
       "<Figure size 432x288 with 1 Axes>"
      ]
     },
     "metadata": {},
     "output_type": "display_data"
    }
   ],
   "source": [
    "labels = simple_to_use_g_map_api_stat.keys()\n",
    "sizes = simple_to_use_g_map_api_stat.values()\n",
    "colors = ['red','green', 'gold', 'lightskyblue', 'lightcoral']\n",
    "#explode = (0.1, 0, 0, 0)  # explode 1st slice\n",
    "\n",
    "# Plot\n",
    "plt.pie(sizes, labels=labels, colors=colors,\n",
    "autopct='%1.1f%%', shadow=True, startangle=140,textprops={'fontsize': 16})\n",
    "\n",
    "plt.axis('equal')\n",
    "plt.title('Sentiment on Google Map API (Simple to use)',fontsize=18)\n",
    "plt.show()"
   ]
  },
  {
   "cell_type": "code",
   "execution_count": 67,
   "metadata": {},
   "outputs": [
    {
     "data": {
      "text/plain": [
       "{'Bad': 2, 'Average': 6, 'Not Good': 4, 'Good': 5, 'Very Good': 5}"
      ]
     },
     "execution_count": 67,
     "metadata": {},
     "output_type": "execute_result"
    }
   ],
   "source": [
    "good_doc_g_map_api=list(df[8])\n",
    "good_doc_g_map_api=[a for a in good_doc_g_map_api if str(a)!='nan']\n",
    "k=list(Counter(good_doc_g_map_api).keys())\n",
    "v=list(Counter(good_doc_g_map_api).values())\n",
    "good_doc_g_map_api_stat={}\n",
    "for indx, val in enumerate(k):\n",
    "    good_doc_g_map_api_stat[rate_constant[val]]=v[indx]\n",
    "good_doc_g_map_api_stat"
   ]
  },
  {
   "cell_type": "code",
   "execution_count": 69,
   "metadata": {},
   "outputs": [
    {
     "data": {
      "image/png": "[encoded data removed]",
      "text/plain": [
       "<Figure size 432x288 with 1 Axes>"
      ]
     },
     "metadata": {},
     "output_type": "display_data"
    }
   ],
   "source": [
    "labels = good_doc_g_map_api_stat.keys()\n",
    "sizes = good_doc_g_map_api_stat.values()\n",
    "colors = ['red','gold', 'lightcoral', 'lightskyblue', 'green']\n",
    "#explode = (0.1, 0, 0, 0)  # explode 1st slice\n",
    "\n",
    "# Plot\n",
    "plt.pie(sizes, labels=labels, colors=colors,\n",
    "autopct='%1.1f%%', shadow=True, startangle=140,textprops={'fontsize': 16})\n",
    "\n",
    "plt.axis('equal')\n",
    "plt.title('Sentiment on Google Map API (Good Documentations)',fontsize=18)\n",
    "plt.show()"
   ]
  },
  {
   "cell_type": "code",
   "execution_count": null,
   "metadata": {},
   "outputs": [],
   "source": []
  }
 ],
 "metadata": {
  "kernelspec": {
   "display_name": "Python 3",
   "language": "python",
   "name": "python3"
  },
  "language_info": {
   "codemirror_mode": {
    "name": "ipython",
    "version": 3
   },
   "file_extension": ".py",
   "mimetype": "text/x-python",
   "name": "python",
   "nbconvert_exporter": "python",
   "pygments_lexer": "ipython3",
   "version": "3.7.3"
  }
 },
 "nbformat": 4,
 "nbformat_minor": 2
}
